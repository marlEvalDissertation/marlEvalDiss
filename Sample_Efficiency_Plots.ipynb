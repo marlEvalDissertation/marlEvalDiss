{
  "nbformat": 4,
  "nbformat_minor": 0,
  "metadata": {
    "colab": {
      "provenance": [],
      "authorship_tag": "ABX9TyP8D+7vvc2arvH/sEz/EH+g",
      "include_colab_link": true
    },
    "kernelspec": {
      "name": "ir",
      "display_name": "R"
    },
    "language_info": {
      "name": "R"
    }
  },
  "cells": [
    {
      "cell_type": "markdown",
      "metadata": {
        "id": "view-in-github",
        "colab_type": "text"
      },
      "source": [
        "<a href=\"https://colab.research.google.com/github/marlEvalDissertation/marlEvalDiss/blob/main/Sample_Efficiency_Plots.ipynb\" target=\"_parent\"><img src=\"https://colab.research.google.com/assets/colab-badge.svg\" alt=\"Open In Colab\"/></a>"
      ]
    },
    {
      "cell_type": "code",
      "execution_count": null,
      "metadata": {
        "id": "u4xsEGI0hOHZ"
      },
      "outputs": [],
      "source": [
        "# Load necessary library\n",
        "library(stringr)\n",
        "\n",
        "# Read the text file\n",
        "output_file <- \"output.txt\"  # Replace 'output.txt' with the name of your output file\n",
        "output <- readLines(output_file)\n",
        "\n",
        "# Initialize vectors to store data\n",
        "timesteps <- numeric(0)\n",
        "rewards <- numeric(0)\n",
        "uncertainties <- numeric(0)\n",
        "\n",
        "# Regular expression pattern to extract relevant information\n",
        "pattern <- \"Eval num_timesteps=(\\\\d+), episode_reward=(\\\\d+\\\\.\\\\d+) \\\\+/- (\\\\d+\\\\.\\\\d+)\"\n",
        "\n",
        "# Loop through each line in the output\n",
        "for (line in output) {\n",
        "  # Match pattern in the line\n",
        "  match <- str_match(line, pattern)\n",
        "\n",
        "  # If match found, extract and store data\n",
        "  if (!is.na(match)) {\n",
        "    timesteps <- c(timesteps, as.numeric(match[2]))\n",
        "    rewards <- c(rewards, as.numeric(match[3]))\n",
        "    uncertainties <- c(uncertainties, as.numeric(match[4]))\n",
        "  }\n",
        "}\n",
        "\n",
        "# Combine data into a data frame\n",
        "data <- data.frame(timesteps, rewards, uncertainties)\n",
        "\n",
        "# Write data to CSV file\n",
        "write.csv(data, file = \"output_data.csv\", row.names = FALSE)\n"
      ]
    }
  ]
}