{
  "nbformat": 4,
  "nbformat_minor": 0,
  "metadata": {
    "colab": {
      "provenance": [],
      "authorship_tag": "ABX9TyMpBJ3pUvsQj6tzFcBRrNEg",
      "include_colab_link": true
    },
    "kernelspec": {
      "name": "ir",
      "display_name": "R"
    },
    "language_info": {
      "name": "R"
    }
  },
  "cells": [
    {
      "cell_type": "markdown",
      "metadata": {
        "id": "view-in-github",
        "colab_type": "text"
      },
      "source": [
        "<a href=\"https://colab.research.google.com/github/marlEvalDissertation/marlEvalDiss/blob/main/Guideline_Data_Aggregation.ipynb\" target=\"_parent\"><img src=\"https://colab.research.google.com/assets/colab-badge.svg\" alt=\"Open In Colab\"/></a>"
      ]
    },
    {
      "cell_type": "markdown",
      "source": [
        "# Data Aggregation For RL Performance Data\n",
        "\n",
        "## Roland Dubb\n",
        "\n",
        "### February 2024\n",
        "\n",
        "This notebook makes use of multi-criteria decision analysis to aggregate RL algorithm performance data across tasks and runs. The data is found in my [repository](https://github.com/marlEvalDissertation/marlEvalDiss/tree/main/RL_data) and is collected using this [notebook](https://github.com/marlEvalDissertation/marlEvalDiss/blob/main/Guideline_Data_Collection.ipynb).\n",
        "\n",
        "The data aggregation methodology is found in section 4.1.4 and 4.1.5 of my dissertation titled:\n",
        "\n",
        "**Addressing Deep Reinforcement Learning Empirical Algorithm Performance Evaluations**\n",
        "\n",
        "This notebook constructs partial value functions using MCDA for each of three RL tasks, CArtPole, ACrobot and Lunar Lander. We then use these on the RL algorithm performance data along with an additive value function and chosen swing weights to aggregate the data and compare algorithm performances."
      ],
      "metadata": {
        "id": "Z1Mylbg2OvEV"
      }
    },
    {
      "cell_type": "markdown",
      "source": [
        "### Reading the Performance Data from CSVs"
      ],
      "metadata": {
        "id": "xKzQitf4QMLZ"
      }
    },
    {
      "cell_type": "code",
      "execution_count": null,
      "metadata": {
        "id": "Y3upGZdnOcjV"
      },
      "outputs": [],
      "source": [
        "envs = c(\"cart\",\"acro\",\"ll\")\n",
        "algs = c(\"a2c\",\"dqn\",\"ppo\")\n",
        "fileNames = c()\n",
        "for(i in envs)\n",
        "{\n",
        "for(j in algs)\n",
        "{\n",
        "for(runs in 1:5)\n",
        "{\n",
        "  fileNames = c(fileNames,paste(i,\"_\",j,runs,\".txt.csv\",sep=\"\"))\n",
        "}\n",
        "}\n",
        "}"
      ]
    },
    {
      "cell_type": "markdown",
      "source": [
        "Create arrays of performance data for each algorithm on each task."
      ],
      "metadata": {
        "id": "XITlEurUrDAp"
      }
    },
    {
      "cell_type": "code",
      "source": [
        "ppoCart = c()\n",
        "a2cCart = c()\n",
        "dqnCart = c()\n",
        "ppoAcro = c()\n",
        "dqnAcro = c()\n",
        "a2cAcro = c()\n",
        "dqnLuLa = c()\n",
        "a2cLuLa = c()\n",
        "ppoLuLa = c()\n",
        "\n",
        "count = 1\n",
        "\n",
        "for(i in fileNames)\n",
        "{\n",
        "   if(count<=15) #cartpole\n",
        "   {\n",
        "    data <- read.csv(i)\n",
        "    if(count<=5)#A2C\n",
        "    {\n",
        "      a2cCart = c(a2cCart,data$rewards[10])\n",
        "    }\n",
        "    else if(count>=6 && count<=10)#DQN\n",
        "    {\n",
        "      dqnCart = c(dqnCart,data$rewards[10])\n",
        "    }\n",
        "    else#PPO\n",
        "    {\n",
        "      ppoCart = c(ppoCart,data$rewards[10])\n",
        "    }\n",
        "   }\n",
        "\n",
        "   else if (count>=16 && count <=30) #Acrobot\n",
        "   {\n",
        "    data <- read.csv(i)\n",
        "    if(count<=20)#A2C\n",
        "    {\n",
        "      a2cAcro = c(a2cAcro,data$rewards[10])\n",
        "    }\n",
        "    else if(count>=21 && count <=25)#DQN\n",
        "    {\n",
        "      dqnAcro = c(dqnAcro,data$rewards[10])\n",
        "    }\n",
        "    else#PPO\n",
        "    {\n",
        "      ppoAcro = c(ppoAcro,data$rewards[10])\n",
        "    }\n",
        "   }\n",
        "\n",
        "   else # Lunar Lander\n",
        "   {\n",
        "    data <- read.csv(i)\n",
        "    if(count<=35)#A2C\n",
        "    {\n",
        "      a2cLuLa = c(a2cLuLa,data$rewards[10])\n",
        "    }\n",
        "    else if(count>=36 && count<=40)#DQN\n",
        "    {\n",
        "      dqnLuLa = c(dqnLuLa,data$rewards[10])\n",
        "    }\n",
        "    else#PPO\n",
        "    {\n",
        "      ppoLuLa = c(ppoLuLa,data$rewards[10])\n",
        "    }\n",
        "   }\n",
        "\n",
        "   count = count +1\n",
        "\n",
        "}"
      ],
      "metadata": {
        "id": "DsMHV4GJnB9e"
      },
      "execution_count": null,
      "outputs": []
    },
    {
      "cell_type": "markdown",
      "source": [
        "### Checking local minima and maxima for constructing partial value functions"
      ],
      "metadata": {
        "id": "EG7TpvNVrMcb"
      }
    },
    {
      "cell_type": "code",
      "source": [
        "#CARTPOLE\n",
        "min(min(a2cCart,ppoCart,dqnCart))\n",
        "max(max(a2cCart,ppoCart,dqnCart))"
      ],
      "metadata": {
        "colab": {
          "base_uri": "https://localhost:8080/",
          "height": 52
        },
        "id": "IK3uttPguXbp",
        "outputId": "99c983bc-2b8e-4c22-d30c-01d96932213e"
      },
      "execution_count": null,
      "outputs": [
        {
          "output_type": "display_data",
          "data": {
            "text/html": [
              "28.7"
            ],
            "text/markdown": "28.7",
            "text/latex": "28.7",
            "text/plain": [
              "[1] 28.7"
            ]
          },
          "metadata": {}
        },
        {
          "output_type": "display_data",
          "data": {
            "text/html": [
              "500"
            ],
            "text/markdown": "500",
            "text/latex": "500",
            "text/plain": [
              "[1] 500"
            ]
          },
          "metadata": {}
        }
      ]
    },
    {
      "cell_type": "code",
      "source": [
        "#ACROBOT\n",
        "min(min(a2cAcro,dqnAcro,ppoAcro))\n",
        "max(max(a2cAcro,dqnAcro,ppoAcro))"
      ],
      "metadata": {
        "colab": {
          "base_uri": "https://localhost:8080/",
          "height": 52
        },
        "id": "YKkNYLQ7unj7",
        "outputId": "99bdd7a2-9d1d-4253-f093-8d2a21b841f4"
      },
      "execution_count": null,
      "outputs": [
        {
          "output_type": "display_data",
          "data": {
            "text/html": [
              "-119.9"
            ],
            "text/markdown": "-119.9",
            "text/latex": "-119.9",
            "text/plain": [
              "[1] -119.9"
            ]
          },
          "metadata": {}
        },
        {
          "output_type": "display_data",
          "data": {
            "text/html": [
              "-74.8"
            ],
            "text/markdown": "-74.8",
            "text/latex": "-74.8",
            "text/plain": [
              "[1] -74.8"
            ]
          },
          "metadata": {}
        }
      ]
    },
    {
      "cell_type": "code",
      "source": [
        "#LuLA\n",
        "min(min(a2cLuLa,dqnLuLa,ppoLuLa))\n",
        "max(max(a2cLuLa,dqnLuLa,ppoLuLa))"
      ],
      "metadata": {
        "colab": {
          "base_uri": "https://localhost:8080/",
          "height": 52
        },
        "id": "5f99PoODuznx",
        "outputId": "ad46bee5-c549-4db5-c5ba-adcbd3b3af2a"
      },
      "execution_count": null,
      "outputs": [
        {
          "output_type": "display_data",
          "data": {
            "text/html": [
              "-483.13"
            ],
            "text/markdown": "-483.13",
            "text/latex": "-483.13",
            "text/plain": [
              "[1] -483.13"
            ]
          },
          "metadata": {}
        },
        {
          "output_type": "display_data",
          "data": {
            "text/html": [
              "220.56"
            ],
            "text/markdown": "220.56",
            "text/latex": "220.56",
            "text/plain": [
              "[1] 220.56"
            ]
          },
          "metadata": {}
        }
      ]
    },
    {
      "cell_type": "markdown",
      "source": [
        "### Constructing Cart Pole's Piece-wise Linear Partial Value function from 5 reference points"
      ],
      "metadata": {
        "id": "RIGqtVIVyLOu"
      }
    },
    {
      "cell_type": "markdown",
      "source": [
        "Creating a mathematical function to use for inputting algorithm performance scores"
      ],
      "metadata": {
        "id": "3HyHLEu_yti8"
      }
    },
    {
      "cell_type": "code",
      "source": [
        "# Given (x, y) pairs\n",
        "x <- c(28.7, 250, 350, 450, 500) # Your x values\n",
        "y <- c(0, 25, 50, 75, 100) # Your corresponding y values\n",
        "\n",
        "# Construct piecewise linear function\n",
        "Gcartpole <- approxfun(x, y)\n",
        "\n",
        "# # Example usage\n",
        "# x_input <- 475 # Input x value\n",
        "# y_output <- Gcartpole(x_input) # Output y value\n",
        "# print(y_output)\n"
      ],
      "metadata": {
        "colab": {
          "base_uri": "https://localhost:8080/"
        },
        "id": "2hVDspv9ys7Q",
        "outputId": "1ed15beb-959b-49e6-aaed-82acb8eca236"
      },
      "execution_count": null,
      "outputs": [
        {
          "output_type": "stream",
          "name": "stdout",
          "text": [
            "[1] 87.5\n"
          ]
        }
      ]
    },
    {
      "cell_type": "markdown",
      "source": [
        "Check the Function"
      ],
      "metadata": {
        "id": "3EvDZVT32vfL"
      }
    },
    {
      "cell_type": "code",
      "source": [
        "library(ggplot2)\n",
        "# Generate x values in the domain [28.7, 500]\n",
        "x_values <- seq(28.7, 500, length.out = 1000)\n",
        "\n",
        "# Calculate corresponding y values\n",
        "y_values <- Gcartpole(x_values)\n",
        "\n",
        "# Plot the piecewise linear function\n",
        "ggplot() +\n",
        "  geom_line(aes(x = x_values, y = y_values), color = \"blue\", size = 1) +\n",
        "  geom_point(aes(x = x, y = y), color = \"red\", size = 3) +\n",
        "  xlim(28.7, 500) +\n",
        "  ylim(0, 100) +\n",
        "  labs(x = \"x\", y = \"y\", title = \"Piecewise Linear Function\") +\n",
        "  theme_minimal()"
      ],
      "metadata": {
        "colab": {
          "base_uri": "https://localhost:8080/",
          "height": 437
        },
        "id": "l_rNE8ml0Ff7",
        "outputId": "f83aff51-ecc4-4eb9-aa54-3b2b2f9867b6"
      },
      "execution_count": null,
      "outputs": [
        {
          "output_type": "display_data",
          "data": {
            "text/plain": [
              "plot without title"
            ],
            "image/png": "[encoded data removed]"
          },
          "metadata": {
            "image/png": {
              "width": 420,
              "height": 420
            }
          }
        }
      ]
    },
    {
      "cell_type": "markdown",
      "source": [
        "Plotting the Value function:"
      ],
      "metadata": {
        "id": "gHC-MYiKyoM4"
      }
    },
    {
      "cell_type": "code",
      "source": [
        "# Load ggplot2 package\n",
        "library(ggplot2)\n",
        "\n",
        "# Create data frame for the points\n",
        "data <- data.frame(\n",
        "  x = c(28.7, 250, 350, 450, 500), # Your x values\n",
        "y =c(0, 25, 50, 75, 100) # Your corresponding y values\n",
        ")\n",
        "\n",
        "# Create piece-wise linear plot\n",
        "plot <- ggplot(data, aes(x = x, y = y)) +\n",
        "  geom_line() +\n",
        "  geom_point(shape = 15, size = 5, color = \"black\") +  # Square points, larger size, black color\n",
        "  labs(\n",
        "    x = \"Mean Reward\",  # Updated x-axis title\n",
        "    y = \"Preferential value\" ,   # Updated y-axis title\n",
        "      title = \"Partial Value Function for Cart Pole\"\n",
        "  ) +\n",
        "  scale_x_continuous(\n",
        "    limits = c(28.7, 500))+\n",
        "      #,            # Updated x-axis limits\n",
        "    #breaks = c(0, 10, 20, 30, 40, 50),  # Adjusted breaks\n",
        "    #labels = c(\"0\", \"10\", \"20\", \"30\", \"40\", \"50\") # Adjusted labels\n",
        "  #) +\n",
        "  scale_y_continuous(limits = c(0, 100)) + # Updated y-axis limits\n",
        "  theme(\n",
        "    panel.grid.major = element_line(color = \"black\", linetype = \"solid\"),\n",
        "    panel.grid.minor = element_line(color = \"gray\", linetype = \"dashed\"),\n",
        "    axis.text = element_text(size = 16, face = \"bold\"),\n",
        "    axis.title = element_text(size = 16, face = \"bold\"),\n",
        "    plot.title = element_text(size = 20,face=\"bold\")\n",
        "  )\n",
        "\n",
        "# Print the plot\n",
        "print(plot)"
      ],
      "metadata": {
        "colab": {
          "base_uri": "https://localhost:8080/",
          "height": 437
        },
        "id": "iLOuQ7WpyR-N",
        "outputId": "b5fe98ee-ea05-44d5-990a-c514dd9982b7"
      },
      "execution_count": null,
      "outputs": [
        {
          "output_type": "display_data",
          "data": {
            "text/plain": [
              "plot without title"
            ],
            "image/png": "[encoded data removed]"
          },
          "metadata": {
            "image/png": {
              "width": 420,
              "height": 420
            }
          }
        }
      ]
    }
  ]
}