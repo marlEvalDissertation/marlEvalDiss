{
  "nbformat": 4,
  "nbformat_minor": 0,
  "metadata": {
    "colab": {
      "provenance": [],
      "authorship_tag": "ABX9TyN0F28eQYbnl4ycGiwAX6g9",
      "include_colab_link": true
    },
    "kernelspec": {
      "name": "python3",
      "display_name": "Python 3"
    },
    "language_info": {
      "name": "python"
    }
  },
  "cells": [
    {
      "cell_type": "markdown",
      "metadata": {
        "id": "view-in-github",
        "colab_type": "text"
      },
      "source": [
        "<a href=\"https://colab.research.google.com/github/marlEvalDissertation/marlEvalDiss/blob/main/Results_Analysis.ipynb\" target=\"_parent\"><img src=\"https://colab.research.google.com/assets/colab-badge.svg\" alt=\"Open In Colab\"/></a>"
      ]
    },
    {
      "cell_type": "markdown",
      "source": [
        "# Analysis of Algorithm Performance Evaluation Results\n",
        "\n",
        "## Roland Dubb\n",
        "## February 2024\n",
        "\n",
        "This notebook performs an analysis of the results of an algorithm performance evaluation done using a guideline produced for my dissertation titled:\n",
        "\n",
        "**Addressing Deep Reinforcement Learning Empirical Algorithm Performance Evaluations**\n",
        "\n",
        "The analysis looks at the data found in my [repository](https://github.com/marlEvalDissertation/marlEvalDiss/tree/main/RL_data) which was collected using this [notebook](https://github.com/marlEvalDissertation/marlEvalDiss/blob/main/Guideline_Data_Collection.ipynb). The analysis looks at the aggregated algorithm performances which is compiled using this [notebook](https://github.com/marlEvalDissertation/marlEvalDiss/blob/main/Guideline_Data_Aggregation.ipynb).\n",
        "\n",
        "The analysis in this notebook looks at understanding the performance profiles of the aggregated algorithm performance scores and also understanding the sensitivty to changes in the aggregation weights."
      ],
      "metadata": {
        "id": "QrAJNMojc4tO"
      }
    },
    {
      "cell_type": "code",
      "execution_count": null,
      "metadata": {
        "id": "ZPnT4vVAByJi"
      },
      "outputs": [],
      "source": []
    }
  ]
}