{
  "nbformat": 4,
  "nbformat_minor": 0,
  "metadata": {
    "colab": {
      "provenance": [],
      "authorship_tag": "ABX9TyNST6s9G+wb7jOpyLtsudgs",
      "include_colab_link": true
    },
    "kernelspec": {
      "name": "ir",
      "display_name": "R"
    },
    "language_info": {
      "name": "R"
    }
  },
  "cells": [
    {
      "cell_type": "markdown",
      "metadata": {
        "id": "view-in-github",
        "colab_type": "text"
      },
      "source": [
        "<a href=\"https://colab.research.google.com/github/marlEvalDissertation/marlEvalDiss/blob/main/Results_Analysis.ipynb\" target=\"_parent\"><img src=\"https://colab.research.google.com/assets/colab-badge.svg\" alt=\"Open In Colab\"/></a>"
      ]
    },
    {
      "cell_type": "markdown",
      "source": [
        "# Analysis of Algorithm Performance Evaluation Results\n",
        "\n",
        "## Roland Dubb\n",
        "## February 2024\n",
        "\n",
        "This notebook performs an analysis of the results of an algorithm performance evaluation done using a guideline produced for my dissertation titled:\n",
        "\n",
        "**Addressing Deep Reinforcement Learning Empirical Algorithm Performance Evaluations**\n",
        "\n",
        "The analysis looks at the data found in my [repository](https://github.com/marlEvalDissertation/marlEvalDiss/tree/main/RL_data) which was collected using this [notebook](https://github.com/marlEvalDissertation/marlEvalDiss/blob/main/Guideline_Data_Collection.ipynb). The analysis looks at the aggregated algorithm performances which is compiled using this [notebook](https://github.com/marlEvalDissertation/marlEvalDiss/blob/main/Guideline_Data_Aggregation.ipynb).\n",
        "\n",
        "The analysis in this notebook looks at understanding the performance profiles of the aggregated algorithm performance scores and also understanding the sensitivty to changes in the aggregation weights. The analysis is found in section 4.2.3 of my dissertation."
      ],
      "metadata": {
        "id": "QrAJNMojc4tO"
      }
    },
    {
      "cell_type": "markdown",
      "source": [
        "### Reading the Peformance Data from CSVs\n",
        "\n",
        "The CSVs are found in my [repo](https://github.com/marlEvalDissertation/marlEvalDiss/tree/main/RL_data)"
      ],
      "metadata": {
        "id": "jW7hPJl2ei9c"
      }
    },
    {
      "cell_type": "code",
      "execution_count": 1,
      "metadata": {
        "id": "ZPnT4vVAByJi"
      },
      "outputs": [],
      "source": [
        "envs = c(\"cart\",\"acro\",\"ll\")\n",
        "algs = c(\"a2c\",\"dqn\",\"ppo\")\n",
        "fileNames = c()\n",
        "for(i in envs)\n",
        "{\n",
        "for(j in algs)\n",
        "{\n",
        "for(runs in 1:5)\n",
        "{\n",
        "  fileNames = c(fileNames,paste(i,\"_\",j,runs,\".txt.csv\",sep=\"\"))\n",
        "}\n",
        "}\n",
        "}"
      ]
    },
    {
      "cell_type": "markdown",
      "source": [
        "Create arrays of performance data for each algorithm on each task."
      ],
      "metadata": {
        "id": "deGG7Lmye1I1"
      }
    },
    {
      "cell_type": "code",
      "source": [
        "ppoCart = c()\n",
        "a2cCart = c()\n",
        "dqnCart = c()\n",
        "ppoAcro = c()\n",
        "dqnAcro = c()\n",
        "a2cAcro = c()\n",
        "dqnLuLa = c()\n",
        "a2cLuLa = c()\n",
        "ppoLuLa = c()\n",
        "\n",
        "count = 1\n",
        "\n",
        "for(i in fileNames)\n",
        "{\n",
        "   if(count<=15) #cartpole\n",
        "   {\n",
        "    data <- read.csv(i)\n",
        "    if(count<=5)#A2C\n",
        "    {\n",
        "      a2cCart = c(a2cCart,data$rewards[10])\n",
        "    }\n",
        "    else if(count>=6 && count<=10)#DQN\n",
        "    {\n",
        "      dqnCart = c(dqnCart,data$rewards[10])\n",
        "    }\n",
        "    else#PPO\n",
        "    {\n",
        "      ppoCart = c(ppoCart,data$rewards[10])\n",
        "    }\n",
        "   }\n",
        "\n",
        "   else if (count>=16 && count <=30) #Acrobot\n",
        "   {\n",
        "    data <- read.csv(i)\n",
        "    if(count<=20)#A2C\n",
        "    {\n",
        "      a2cAcro = c(a2cAcro,data$rewards[10])\n",
        "    }\n",
        "    else if(count>=21 && count <=25)#DQN\n",
        "    {\n",
        "      dqnAcro = c(dqnAcro,data$rewards[10])\n",
        "    }\n",
        "    else#PPO\n",
        "    {\n",
        "      ppoAcro = c(ppoAcro,data$rewards[10])\n",
        "    }\n",
        "   }\n",
        "\n",
        "   else # Lunar Lander\n",
        "   {\n",
        "    data <- read.csv(i)\n",
        "    if(count<=35)#A2C\n",
        "    {\n",
        "      a2cLuLa = c(a2cLuLa,data$rewards[10])\n",
        "    }\n",
        "    else if(count>=36 && count<=40)#DQN\n",
        "    {\n",
        "      dqnLuLa = c(dqnLuLa,data$rewards[10])\n",
        "    }\n",
        "    else#PPO\n",
        "    {\n",
        "      ppoLuLa = c(ppoLuLa,data$rewards[10])\n",
        "    }\n",
        "   }\n",
        "\n",
        "   count = count +1\n",
        "\n",
        "}"
      ],
      "metadata": {
        "id": "Q8Q5eZD2e1pQ"
      },
      "execution_count": 2,
      "outputs": []
    },
    {
      "cell_type": "markdown",
      "source": [
        "### Construct Partial Value Functions and Save Weights\n",
        "\n",
        "The constructed partial value functions and weights are found in my data aggregation [notebook](https://github.com/marlEvalDissertation/marlEvalDiss/blob/main/Guideline_Data_Aggregation.ipynb) and in section 4.1. of my dissertation"
      ],
      "metadata": {
        "id": "ns3CSXmhfGvV"
      }
    },
    {
      "cell_type": "code",
      "source": [
        "# PARTIAL VALUE FUNCTIONS\n",
        "x <- c(0, 250, 350, 450, 500)\n",
        "y <- c(0, 25, 50, 75, 100)\n",
        "\n",
        "# Construct piecewise linear function\n",
        "Gcartpole <- approxfun(x, y)\n",
        "\n",
        "x <- c(-500, -200, -150, -75, -50)\n",
        "y <- c(0, 25, 50, 75, 100)\n",
        "\n",
        "# Construct piecewise linear function\n",
        "Gacrobot <- approxfun(x, y)\n",
        "\n",
        "x <- c(-3000, -200, 0, 200, 300)\n",
        "y <- c(0, 25, 50, 75, 100)\n",
        "\n",
        "# Construct piecewise linear function\n",
        "Glula <- approxfun(x, y)"
      ],
      "metadata": {
        "id": "SVghanXNfogn"
      },
      "execution_count": 3,
      "outputs": []
    },
    {
      "cell_type": "code",
      "source": [
        "CartPoleWeight = 3/9\n",
        "LunarLanderWeight = 4/9\n",
        "Acrobotweight = 2/9\n",
        "\n",
        "N_lula = 5\n",
        "N_acro = 5\n",
        "N_cart = 5\n",
        "\n",
        "cart_weight_q = CartPoleWeight/N_cart\n",
        "acro_weight_q = Acrobotweight/N_acro\n",
        "lula_weight_q = LunarLanderWeight/N_lula\n",
        "\n",
        "# cart_weight_q = 0.2\n",
        "# acro_weight_q = 0.2\n",
        "# lula_weight_q = 0.2"
      ],
      "metadata": {
        "id": "PpsanQ-jf-cK"
      },
      "execution_count": 44,
      "outputs": []
    },
    {
      "cell_type": "markdown",
      "source": [
        "### Plot Performance Profiles of the Algorithms in terms of their weighted and normalised scores per task"
      ],
      "metadata": {
        "id": "bCmgTUwDgLGb"
      }
    },
    {
      "cell_type": "markdown",
      "source": [
        "Getting the weighted normalised score data"
      ],
      "metadata": {
        "id": "mRP8evqClz1s"
      }
    },
    {
      "cell_type": "code",
      "source": [
        "  # DQN\n",
        "  cart_DQN_Score = 0\n",
        "  acro_DQN_Score = 0\n",
        "  lula_DQN_Score = 0\n",
        "  for(j in 1:5)#runs per task\n",
        "  {\n",
        "      cart_DQN_Score = cart_DQN_Score+(cart_weight_q)*Gcartpole(dqnCart[j])\n",
        "      acro_DQN_Score = acro_DQN_Score+(acro_weight_q)*Gacrobot(dqnAcro[j])\n",
        "      lula_DQN_Score = lula_DQN_Score+(lula_weight_q)*Glula(dqnLuLa[j])\n",
        "  }"
      ],
      "metadata": {
        "id": "eLnYynDInxNg"
      },
      "execution_count": 38,
      "outputs": []
    },
    {
      "cell_type": "code",
      "source": [
        "# A2C\n",
        "  cart_A2C_Score = 0\n",
        "  acro_A2C_Score = 0\n",
        "  lula_A2C_Score = 0\n",
        "  for(j in 1:5)#runs per task\n",
        "  {\n",
        "  cart_A2C_Score = cart_A2C_Score+(cart_weight_q)*Gcartpole(a2cCart[j])\n",
        "  acro_A2C_Score = acro_A2C_Score+(acro_weight_q)*Gacrobot(a2cAcro[j])\n",
        "  lula_A2C_Score = lula_A2C_Score+(lula_weight_q)*Glula(a2cLuLa[j])\n",
        "  }"
      ],
      "metadata": {
        "id": "XzWY81IAoo4_"
      },
      "execution_count": 39,
      "outputs": []
    },
    {
      "cell_type": "code",
      "source": [
        "# PPO\n",
        "  cart_PPO_Score = 0\n",
        "  acro_PPO_Score = 0\n",
        "  lula_PPO_Score = 0\n",
        "  for(j in 1:5)#runs per task\n",
        "  {\n",
        "      cart_PPO_Score = cart_PPO_Score+(cart_weight_q)*Gcartpole(ppoCart[j])\n",
        "      acro_PPO_Score = acro_PPO_Score+(acro_weight_q)*Gacrobot(ppoAcro[j])\n",
        "      lula_PPO_Score = lula_PPO_Score+(lula_weight_q)*Glula(ppoLuLa[j])\n",
        "  }"
      ],
      "metadata": {
        "id": "JpbBdXcLpKWv"
      },
      "execution_count": 40,
      "outputs": []
    },
    {
      "cell_type": "code",
      "source": [
        "# gathering data into a dataframe\n",
        "df <- data.frame(\n",
        "  Algorithm = c(\"PPO\", \"A2C\", \"DQN\"),\n",
        "  Cart_Pole = c(cart_PPO_Score, cart_A2C_Score, cart_DQN_Score),\n",
        "  Acrobot = c(acro_PPO_Score, acro_A2C_Score, acro_DQN_Score),\n",
        "  Lunar_Lander = c(lula_PPO_Score, lula_A2C_Score, lula_DQN_Score)\n",
        ")"
      ],
      "metadata": {
        "id": "wa8df7PrgULw"
      },
      "execution_count": 41,
      "outputs": []
    },
    {
      "cell_type": "code",
      "source": [
        "# plotting the performance Profile\n",
        "# Reshaping the data to long format\n",
        "library(tidyr)\n",
        "df_long <- pivot_longer(df, cols = -Algorithm, names_to = \"Task\", values_to = \"Weighted_Partial_Value\")\n",
        "df_long$Task <- factor(df_long$Task, levels = c(\"Cart_Pole\", \"Acrobot\", \"Lunar_Lander\"))\n",
        "# Plotting with ggplot2\n",
        "library(ggplot2)\n",
        "\n",
        "ggplot(df_long, aes(x = Task, y = Weighted_Partial_Value, color = Algorithm, group = Algorithm)) +\n",
        "  geom_point(size = 4) +\n",
        "  geom_line() +\n",
        "  scale_y_continuous(name = \"Weighted Partial Value\", limits = c(0, 100)) +\n",
        "  scale_x_discrete(name = \"Task\") +\n",
        "  theme_minimal() +\n",
        "  theme(legend.position = \"bottom\",\n",
        "    axis.text = element_text(size = 16, face = \"bold\"),\n",
        "    axis.title = element_text(size = 16, face = \"bold\"),\n",
        "    legend.text = element_text(size = 14)\n",
        "  ) +\n",
        "  labs(color = \"Algorithm\") +\n",
        "  scale_color_manual(values = c(\"blue\", \"red\", \"green\")) +\n",
        "  guides(color = guide_legend(override.aes = list(size = 4)))\n"
      ],
      "metadata": {
        "colab": {
          "base_uri": "https://localhost:8080/",
          "height": 437
        },
        "id": "GuHzYTG1j5Bo",
        "outputId": "d1157704-be72-40db-943c-ede7c36e2e63"
      },
      "execution_count": 43,
      "outputs": [
        {
          "output_type": "display_data",
          "data": {
            "text/plain": [
              "plot without title"
            ],
            "image/png": "[encoded data removed]"
          },
          "metadata": {
            "image/png": {
              "width": 420,
              "height": 420
            }
          }
        }
      ]
    },
    {
      "cell_type": "markdown",
      "source": [
        "### Sensitivty Analysis of Weights"
      ],
      "metadata": {
        "id": "sWs9kNKD4Y3Q"
      }
    },
    {
      "cell_type": "markdown",
      "source": [
        "We exclude Acrobot due to irrelevance. We exclude A2C due to dominance (from PPO). We variate the weights of Lunar Lander vs PPO to determine the decision boundaries in terms of the rankings of DQN vs PPO"
      ],
      "metadata": {
        "id": "4vt6X5sG5F3y"
      }
    },
    {
      "cell_type": "code",
      "source": [],
      "metadata": {
        "id": "KE3QNGWB4bYi"
      },
      "execution_count": null,
      "outputs": []
    }
  ]
}