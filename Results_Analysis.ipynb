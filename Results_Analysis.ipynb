{
  "nbformat": 4,
  "nbformat_minor": 0,
  "metadata": {
    "colab": {
      "provenance": [],
      "authorship_tag": "ABX9TyPGhm8G/T3ciKG/cGZDaPnp",
      "include_colab_link": true
    },
    "kernelspec": {
      "name": "ir",
      "display_name": "R"
    },
    "language_info": {
      "name": "R"
    }
  },
  "cells": [
    {
      "cell_type": "markdown",
      "metadata": {
        "id": "view-in-github",
        "colab_type": "text"
      },
      "source": [
        "<a href=\"https://colab.research.google.com/github/marlEvalDissertation/marlEvalDiss/blob/main/Results_Analysis.ipynb\" target=\"_parent\"><img src=\"https://colab.research.google.com/assets/colab-badge.svg\" alt=\"Open In Colab\"/></a>"
      ]
    },
    {
      "cell_type": "markdown",
      "source": [
        "# Analysis of Algorithm Performance Evaluation Results\n",
        "\n",
        "## Roland Dubb\n",
        "## February 2024\n",
        "\n",
        "This notebook performs an analysis of the results of an algorithm performance evaluation done using a guideline produced for my dissertation titled:\n",
        "\n",
        "**Addressing Deep Reinforcement Learning Empirical Algorithm Performance Evaluations**\n",
        "\n",
        "The analysis looks at the data found in my [repository](https://github.com/marlEvalDissertation/marlEvalDiss/tree/main/RL_data) which was collected using this [notebook](https://github.com/marlEvalDissertation/marlEvalDiss/blob/main/Guideline_Data_Collection.ipynb). The analysis looks at the aggregated algorithm performances which is compiled using this [notebook](https://github.com/marlEvalDissertation/marlEvalDiss/blob/main/Guideline_Data_Aggregation.ipynb).\n",
        "\n",
        "The analysis in this notebook looks at understanding the performance profiles of the aggregated algorithm performance scores and also understanding the sensitivty to changes in the aggregation weights. The analysis is found in section 4.2.3 of my dissertation."
      ],
      "metadata": {
        "id": "QrAJNMojc4tO"
      }
    },
    {
      "cell_type": "markdown",
      "source": [
        "### Reading the Peformance Data from CSVs\n",
        "\n",
        "The CSVs are found in my [repo](https://github.com/marlEvalDissertation/marlEvalDiss/tree/main/RL_data)"
      ],
      "metadata": {
        "id": "jW7hPJl2ei9c"
      }
    },
    {
      "cell_type": "code",
      "execution_count": 96,
      "metadata": {
        "id": "ZPnT4vVAByJi"
      },
      "outputs": [],
      "source": [
        "envs = c(\"cart\",\"acro\",\"ll\")\n",
        "algs = c(\"a2c\",\"dqn\",\"ppo\")\n",
        "fileNames = c()\n",
        "for(i in envs)\n",
        "{\n",
        "for(j in algs)\n",
        "{\n",
        "for(runs in 1:5)\n",
        "{\n",
        "  fileNames = c(fileNames,paste(i,\"_\",j,runs,\".txt.csv\",sep=\"\"))\n",
        "}\n",
        "}\n",
        "}"
      ]
    },
    {
      "cell_type": "markdown",
      "source": [
        "Create arrays of performance data for each algorithm on each task."
      ],
      "metadata": {
        "id": "deGG7Lmye1I1"
      }
    },
    {
      "cell_type": "code",
      "source": [
        "ppoCart = c()\n",
        "a2cCart = c()\n",
        "dqnCart = c()\n",
        "ppoAcro = c()\n",
        "dqnAcro = c()\n",
        "a2cAcro = c()\n",
        "dqnLuLa = c()\n",
        "a2cLuLa = c()\n",
        "ppoLuLa = c()\n",
        "\n",
        "count = 1\n",
        "\n",
        "for(i in fileNames)\n",
        "{\n",
        "   if(count<=15) #cartpole\n",
        "   {\n",
        "    data <- read.csv(i)\n",
        "    if(count<=5)#A2C\n",
        "    {\n",
        "      a2cCart = c(a2cCart,data$rewards[10])\n",
        "    }\n",
        "    else if(count>=6 && count<=10)#DQN\n",
        "    {\n",
        "      dqnCart = c(dqnCart,data$rewards[10])\n",
        "    }\n",
        "    else#PPO\n",
        "    {\n",
        "      ppoCart = c(ppoCart,data$rewards[10])\n",
        "    }\n",
        "   }\n",
        "\n",
        "   else if (count>=16 && count <=30) #Acrobot\n",
        "   {\n",
        "    data <- read.csv(i)\n",
        "    if(count<=20)#A2C\n",
        "    {\n",
        "      a2cAcro = c(a2cAcro,data$rewards[10])\n",
        "    }\n",
        "    else if(count>=21 && count <=25)#DQN\n",
        "    {\n",
        "      dqnAcro = c(dqnAcro,data$rewards[10])\n",
        "    }\n",
        "    else#PPO\n",
        "    {\n",
        "      ppoAcro = c(ppoAcro,data$rewards[10])\n",
        "    }\n",
        "   }\n",
        "\n",
        "   else # Lunar Lander\n",
        "   {\n",
        "    data <- read.csv(i)\n",
        "    if(count<=35)#A2C\n",
        "    {\n",
        "      a2cLuLa = c(a2cLuLa,data$rewards[10])\n",
        "    }\n",
        "    else if(count>=36 && count<=40)#DQN\n",
        "    {\n",
        "      dqnLuLa = c(dqnLuLa,data$rewards[10])\n",
        "    }\n",
        "    else#PPO\n",
        "    {\n",
        "      ppoLuLa = c(ppoLuLa,data$rewards[10])\n",
        "    }\n",
        "   }\n",
        "\n",
        "   count = count +1\n",
        "\n",
        "}"
      ],
      "metadata": {
        "id": "Q8Q5eZD2e1pQ"
      },
      "execution_count": 97,
      "outputs": []
    },
    {
      "cell_type": "markdown",
      "source": [
        "### Construct Partial Value Functions and Save Weights\n",
        "\n",
        "The constructed partial value functions and weights are found in my data aggregation [notebook](https://github.com/marlEvalDissertation/marlEvalDiss/blob/main/Guideline_Data_Aggregation.ipynb) and in section 4.1. of my dissertation"
      ],
      "metadata": {
        "id": "ns3CSXmhfGvV"
      }
    },
    {
      "cell_type": "code",
      "source": [
        "# PARTIAL VALUE FUNCTIONS\n",
        "x <- c(0, 250, 350, 450, 500)\n",
        "y <- c(0, 25, 50, 75, 100)\n",
        "\n",
        "# Construct piecewise linear function\n",
        "Gcartpole <- approxfun(x, y)\n",
        "\n",
        "x <- c(-500, -200, -150, -75, -50)\n",
        "y <- c(0, 25, 50, 75, 100)\n",
        "\n",
        "# Construct piecewise linear function\n",
        "Gacrobot <- approxfun(x, y)\n",
        "\n",
        "x <- c(-3000, -200, 0, 200, 300)\n",
        "y <- c(0, 25, 50, 75, 100)\n",
        "\n",
        "# Construct piecewise linear function\n",
        "Glula <- approxfun(x, y)"
      ],
      "metadata": {
        "id": "SVghanXNfogn"
      },
      "execution_count": 98,
      "outputs": []
    },
    {
      "cell_type": "code",
      "source": [
        "CartPoleWeight = 3/9\n",
        "LunarLanderWeight = 4/9\n",
        "Acrobotweight = 2/9\n",
        "\n",
        "N_lula = 5\n",
        "N_acro = 5\n",
        "N_cart = 5\n",
        "\n",
        "cart_weight_q = CartPoleWeight/N_cart\n",
        "acro_weight_q = Acrobotweight/N_acro\n",
        "lula_weight_q = LunarLanderWeight/N_lula\n",
        "\n",
        "# cart_weight_q = 0.2\n",
        "# acro_weight_q = 0.2\n",
        "# lula_weight_q = 0.2"
      ],
      "metadata": {
        "id": "PpsanQ-jf-cK"
      },
      "execution_count": 99,
      "outputs": []
    },
    {
      "cell_type": "markdown",
      "source": [
        "### Plot Performance Profiles of the Algorithms in terms of their weighted and normalised scores per task"
      ],
      "metadata": {
        "id": "bCmgTUwDgLGb"
      }
    },
    {
      "cell_type": "markdown",
      "source": [
        "Getting the weighted normalised score data"
      ],
      "metadata": {
        "id": "mRP8evqClz1s"
      }
    },
    {
      "cell_type": "code",
      "source": [
        "  # DQN\n",
        "  cart_DQN_Score = 0\n",
        "  acro_DQN_Score = 0\n",
        "  lula_DQN_Score = 0\n",
        "  for(j in 1:5)#runs per task\n",
        "  {\n",
        "      cart_DQN_Score = cart_DQN_Score+(cart_weight_q)*Gcartpole(dqnCart[j])\n",
        "      acro_DQN_Score = acro_DQN_Score+(acro_weight_q)*Gacrobot(dqnAcro[j])\n",
        "      lula_DQN_Score = lula_DQN_Score+(lula_weight_q)*Glula(dqnLuLa[j])\n",
        "  }"
      ],
      "metadata": {
        "id": "eLnYynDInxNg"
      },
      "execution_count": 100,
      "outputs": []
    },
    {
      "cell_type": "code",
      "source": [
        "# A2C\n",
        "  cart_A2C_Score = 0\n",
        "  acro_A2C_Score = 0\n",
        "  lula_A2C_Score = 0\n",
        "  for(j in 1:5)#runs per task\n",
        "  {\n",
        "  cart_A2C_Score = cart_A2C_Score+(cart_weight_q)*Gcartpole(a2cCart[j])\n",
        "  acro_A2C_Score = acro_A2C_Score+(acro_weight_q)*Gacrobot(a2cAcro[j])\n",
        "  lula_A2C_Score = lula_A2C_Score+(lula_weight_q)*Glula(a2cLuLa[j])\n",
        "  }"
      ],
      "metadata": {
        "id": "XzWY81IAoo4_"
      },
      "execution_count": 101,
      "outputs": []
    },
    {
      "cell_type": "code",
      "source": [
        "# PPO\n",
        "  cart_PPO_Score = 0\n",
        "  acro_PPO_Score = 0\n",
        "  lula_PPO_Score = 0\n",
        "  for(j in 1:5)#runs per task\n",
        "  {\n",
        "      cart_PPO_Score = cart_PPO_Score+(cart_weight_q)*Gcartpole(ppoCart[j])\n",
        "      acro_PPO_Score = acro_PPO_Score+(acro_weight_q)*Gacrobot(ppoAcro[j])\n",
        "      lula_PPO_Score = lula_PPO_Score+(lula_weight_q)*Glula(ppoLuLa[j])\n",
        "  }"
      ],
      "metadata": {
        "id": "JpbBdXcLpKWv"
      },
      "execution_count": 102,
      "outputs": []
    },
    {
      "cell_type": "code",
      "source": [
        "# gathering data into a dataframe\n",
        "df <- data.frame(\n",
        "  Algorithm = c(\"PPO\", \"A2C\", \"DQN\"),\n",
        "  Cart_Pole = c(cart_PPO_Score, cart_A2C_Score, cart_DQN_Score),\n",
        "  Acrobot = c(acro_PPO_Score, acro_A2C_Score, acro_DQN_Score),\n",
        "  Lunar_Lander = c(lula_PPO_Score, lula_A2C_Score, lula_DQN_Score)\n",
        ")"
      ],
      "metadata": {
        "id": "wa8df7PrgULw"
      },
      "execution_count": 103,
      "outputs": []
    },
    {
      "cell_type": "code",
      "source": [
        "# plotting the performance Profile\n",
        "# Reshaping the data to long format\n",
        "library(tidyr)\n",
        "df_long <- pivot_longer(df, cols = -Algorithm, names_to = \"Task\", values_to = \"Weighted_Partial_Value\")\n",
        "df_long$Task <- factor(df_long$Task, levels = c(\"Cart_Pole\", \"Acrobot\", \"Lunar_Lander\"))\n",
        "# Plotting with ggplot2\n",
        "library(ggplot2)\n",
        "\n",
        "ggplot(df_long, aes(x = Task, y = Weighted_Partial_Value, color = Algorithm, group = Algorithm)) +\n",
        "  geom_point(size = 4) +\n",
        "  geom_line() +\n",
        "  scale_y_continuous(name = \"Weighted Partial Value\", limits = c(0, 100)) +\n",
        "  scale_x_discrete(name = \"Task\") +\n",
        "  theme_minimal() +\n",
        "  theme(legend.position = \"bottom\",\n",
        "    axis.text = element_text(size = 16, face = \"bold\"),\n",
        "    axis.title = element_text(size = 16, face = \"bold\"),\n",
        "    legend.text = element_text(size = 14)\n",
        "  ) +\n",
        "  labs(color = \"Algorithm\") +\n",
        "  scale_color_manual(values = c(\"blue\", \"red\", \"green\")) +\n",
        "  guides(color = guide_legend(override.aes = list(size = 4)))\n"
      ],
      "metadata": {
        "colab": {
          "base_uri": "https://localhost:8080/",
          "height": 437
        },
        "id": "GuHzYTG1j5Bo",
        "outputId": "59bf56fa-c569-4f6b-ddb0-2a1c8f98ec43"
      },
      "execution_count": 104,
      "outputs": [
        {
          "output_type": "display_data",
          "data": {
            "text/plain": [
              "plot without title"
            ],
            "image/png": "[encoded data removed]"
          },
          "metadata": {
            "image/png": {
              "width": 420,
              "height": 420
            }
          }
        }
      ]
    },
    {
      "cell_type": "markdown",
      "source": [
        "### Sensitivty Analysis of Weights"
      ],
      "metadata": {
        "id": "sWs9kNKD4Y3Q"
      }
    },
    {
      "cell_type": "markdown",
      "source": [
        "We exclude Acrobot due to irrelevance. We exclude A2C due to dominance (from PPO). We variate the weights of Lunar Lander vs PPO to determine the decision boundaries in terms of the rankings of DQN vs PPO"
      ],
      "metadata": {
        "id": "4vt6X5sG5F3y"
      }
    },
    {
      "cell_type": "markdown",
      "source": [
        "Function to get the aggregate performance score of PPO. Y_ppo"
      ],
      "metadata": {
        "id": "nQmFHbnM6GAe"
      }
    },
    {
      "cell_type": "code",
      "source": [
        "Y_ppo = function(qCart,qLula)\n",
        "{\n",
        "  qCart = qCart/(qCart+qLula)\n",
        "  qCart = qCart/5\n",
        "\n",
        "  qLula = qLula/(qCart+qLula)\n",
        "  qLula = qLula/5\n",
        "\n",
        "  PPO_score = 0\n",
        "\n",
        "  for(i in 1:2) #tasks\n",
        "  {\n",
        "   for(j in 1:5)#runs per task\n",
        "   {\n",
        "\n",
        "      increment = switch(i,\n",
        "        (qCart)*Gcartpole(ppoCart[j]),\n",
        "        (qLula)*Glula(ppoLuLa[j])\n",
        "      )\n",
        "      PPO_score = PPO_score + increment\n",
        "   }\n",
        "  }\n",
        "\n",
        "  return(PPO_score)\n",
        "}\n"
      ],
      "metadata": {
        "id": "KE3QNGWB4bYi"
      },
      "execution_count": 106,
      "outputs": []
    },
    {
      "cell_type": "markdown",
      "source": [
        "Function to get the aggregate performance score of DQN, Y_dqn"
      ],
      "metadata": {
        "id": "mKNwX4ml622m"
      }
    },
    {
      "cell_type": "code",
      "source": [
        "Y_dqn = function(qCart,qLula)\n",
        "{\n",
        "  qCart = qCart/(qCart+qLula)\n",
        "  qCart = qCart/5\n",
        "\n",
        "  qLula = qLula/(qCart+qLula)\n",
        "  qLula = qLula/5\n",
        "\n",
        "  DQN_Score = 0\n",
        "\n",
        "  for(i in 1:2) #tasks\n",
        "  {\n",
        "   for(j in 1:5)#runs per task\n",
        "    {\n",
        "\n",
        "      increment = switch(i,\n",
        "        (qCart)*Gcartpole(dqnCart[j]),\n",
        "        (qLula)*Glula(dqnLuLa[j])\n",
        "        )\n",
        "      DQN_Score = DQN_Score + increment\n",
        "    }\n",
        "  }\n",
        "\n",
        "  return(DQN_Score)\n",
        "}"
      ],
      "metadata": {
        "id": "B40qR1Yj66_w"
      },
      "execution_count": 107,
      "outputs": []
    },
    {
      "cell_type": "markdown",
      "source": [
        "Variate the weights of Cart Pole and Lunar Lander between 0 and 100 to assess the decision boundaries of the rankings."
      ],
      "metadata": {
        "id": "dwMycp1o7YEs"
      }
    },
    {
      "cell_type": "code",
      "source": [
        "outcomeDifference <- function(qCart, qLula)\n",
        "{\n",
        "  d = Y_ppo(qCart=qCart,qLula=qLula)-Y_dqn(qCart = qCart,qLula = qLula)\n",
        "  return(d)\n",
        "}"
      ],
      "metadata": {
        "id": "DxXnjZUd-8oM"
      },
      "execution_count": 108,
      "outputs": []
    },
    {
      "cell_type": "code",
      "source": [
        "# Generate data for qCart and qLunarLander\n",
        "library(ggplot2)\n",
        "\n",
        "qCart <- seq(0.01, 100, length.out = 1000)\n",
        "qLunarLander <- seq(0.01, 100, length.out = 1000)\n",
        "grid <- expand.grid(qCart = qCart, qLunarLander = qLunarLander)\n",
        "\n",
        "# Calculate y for each combination of qCart and qLunarLander\n",
        "grid$y <- outcomeDifference(grid$qCart, grid$qLunarLander)\n",
        "\n",
        "# Create the plot\n",
        "ggplot(grid, aes(x = qCart, y = qLunarLander)) +\n",
        "  geom_contour_filled(aes(z = y),breaks=c(-Inf, 0, Inf), color = \"black\", alpha = 0.5, show.legend = FALSE) + # Solid shaded regions\n",
        "  geom_contour(aes(z = y), breaks = 0, color = \"black\", linetype = \"dashed\") + # Add contour line for y=0\n",
        "  theme_minimal() +\n",
        "  theme(axis.text = element_text(size = 16, face = \"bold\"),\n",
        "    axis.title = element_text(size = 16, face = \"bold\"))+\n",
        "  labs(x = \"qCart\", y = \"qLunarLander\")"
      ],
      "metadata": {
        "colab": {
          "base_uri": "https://localhost:8080/",
          "height": 437
        },
        "id": "9cLr0Dg07gUz",
        "outputId": "e223f72d-9d6d-460d-d365-fe09737e004e"
      },
      "execution_count": 109,
      "outputs": [
        {
          "output_type": "display_data",
          "data": {
            "text/plain": [
              "plot without title"
            ],
            "image/png": "[encoded data removed]"
          },
          "metadata": {
            "image/png": {
              "width": 420,
              "height": 420
            }
          }
        }
      ]
    }
  ]
}